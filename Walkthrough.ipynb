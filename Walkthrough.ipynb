{
 "cells": [
  {
   "cell_type": "markdown",
   "id": "e0c5a0a4-5b61-4c7b-b832-efab41985b11",
   "metadata": {},
   "source": [
    "***\n",
    "## Create dummy data to try the Code yourself:\n",
    "- 3 groups of mice: `ctrl`, `exp`, `ctrl2` (2 mice per group): \n",
    "  - `ctrl` is stable over time\n",
    "  - `ctrl2` jumps randomly\n",
    "  - `exp` decreases over time\n",
    "- 3 time_points (session_id) with 5 trials per mouse (trial_id) = in total 15 trials per mouse"
   ]
  },
  {
   "cell_type": "code",
   "execution_count": null,
   "id": "1ac2ca25-79f2-4fb3-b0a4-15b5924b9245",
   "metadata": {},
   "outputs": [],
   "source": [
    "import pandas as pd\n",
    "import numpy as np"
   ]
  },
  {
   "cell_type": "code",
   "execution_count": null,
   "id": "8206d07a-b737-45b3-b151-93df7c7628ff",
   "metadata": {},
   "outputs": [],
   "source": [
    "test_data = {\n",
    "    \"Data\": list(np.random.randint(250, 301, size=15)) + list(np.random.randint(250, 301, size=15)) + sorted(list(np.random.randint(100, 301, size=15)), reverse=True) + sorted(list(np.random.randint(50, 150, size=15)), reverse=True) + list(np.random.randint(100, 301, size=15)) + list(np.random.randint(50, 251, size=15)),\n",
    "    \"group_id\": [\"ctrl\"]*30 + [\"exp\"]*30 + [\"ctrl2\"]*30,\n",
    "    \"subject_id\": [\"a_good_stable_mouse\"]*15 + [\"a_bad_stable_mouse\"]*15 + [\"started_good_but_worsened\"]*15 + [\"started_poor_and_worsened\"]*15 + [\"flickering_around\"]*15 + [\"flickering_around_low\"]*15,\n",
    "    \"session_id\": ([\"1\"]*5 + [\"2\"]*5 + [\"3\"]*5)*6,\n",
    "    \"trial_id\": [1, 2, 3, 4, 5]*18,\n",
    "    \"subgroup\": [\"test\"]*90\n",
    "}\n",
    "\n",
    "test_df = pd.DataFrame(test_data)\n",
    "test_df.to_csv(\"test.csv\", index = False)\n",
    "test_df.head()"
   ]
  },
  {
   "cell_type": "markdown",
   "id": "eec638e5-79ad-4a0c-bc81-2d45c3207bdf",
   "metadata": {},
   "source": [
    "***\n",
    "## Rotarod Analysis\n",
    "- Rotarod Mode: Ramp\n",
    "   - the higher the score, the better the trial\n",
    "   - trials were repeated at certain timepoints to see development of differences over time\n",
    "   \n",
    "> Using raw scores seemes to disregard pre-experimental locomotory abilities between animals. \n",
    "> To represent individual changes, we decided to normalize the score to a baseline performance."
   ]
  },
  {
   "cell_type": "markdown",
   "id": "4bb44fc3-04b3-44dc-85e4-60b0603ccf80",
   "metadata": {},
   "source": [
    "***\n",
    "### Import dependencies and analysis code"
   ]
  },
  {
   "cell_type": "code",
   "execution_count": null,
   "id": "b7310323-0557-410b-8b7d-4140fec1c486",
   "metadata": {},
   "outputs": [],
   "source": [
    "import seaborn as sns\n",
    "import Rotarod.rotarod_analysis as rot\n",
    "import matplotlib.pyplot as plt\n",
    "from pathlib import Path"
   ]
  },
  {
   "cell_type": "markdown",
   "id": "6762ccfd-0845-462b-aed3-a1f2629fe535",
   "metadata": {},
   "source": [
    "### set necessary inputs\n",
    "- `path`: the path to the excel- or csv-file containing your data\n",
    "   - supported filetypes: .xlsx and .csv\n",
    "- `mouse_lines_to_include` if you want to select certain lines, set the name of the lines here; if None, all lines in the dataframe are selected\n",
    "   - the name of the line needs to be included in the id of the subject in the dataframe column \"subject_id\"\n",
    "- `subgroup`: if only a certain subgroup of data should be selected (subgroup has to be in column \"subgroup\" of the dataframe)\n",
    "- `session`: if only certain sessions should be selected (sessions have to be in \"session_id\" column of the dataframe)\n",
    "- `animals_to_exclude`: if certain animals have to be excluded in analysis due to any reason, set the subject_ids of the animals here \n",
    "- `dropfirst` if the first trial should be excluded, set True, else all of the trials will be analysed\n",
    "   - in our example, the first trial is somewhat of a \"warm-up\", so we will exclude it\n",
    "\n",
    "__if you made changes here, re-run all the cells below to make sure that the analysis was performed on the right data set__"
   ]
  },
  {
   "cell_type": "code",
   "execution_count": null,
   "id": "deb0cfad-33ff-49cc-b7f1-259638654477",
   "metadata": {},
   "outputs": [],
   "source": [
    "path = \"test.csv\" # str\n",
    "mouse_lines_to_include = None # None or list of str\n",
    "subgroup = None # None or str\n",
    "sessions = None # None or list of str\n",
    "animals_to_exclude = None # None or list of str\n",
    "dropfirst = True # True or False"
   ]
  },
  {
   "cell_type": "markdown",
   "id": "94c4ccc8-8b04-4215-8c83-af87c8d18d6b",
   "metadata": {},
   "source": [
    "### load the data\n",
    "a message with the individual subjects found in the dataframe will be printed"
   ]
  },
  {
   "cell_type": "code",
   "execution_count": null,
   "id": "f97c62fd-6da2-4b8d-972d-9137ac3cf3ae",
   "metadata": {},
   "outputs": [],
   "source": [
    "df = rot.get_df(filename = path, lines = mouse_lines_to_include, animals_to_exclude = animals_to_exclude, subgroup=subgroup)"
   ]
  },
  {
   "cell_type": "markdown",
   "id": "542c7ab8-9926-492d-b2a6-5aa47034371a",
   "metadata": {},
   "source": [
    "### run analysis\n",
    "if no baseline_session is specified, the first session will be used as baseline for relative/raw analysis and will be printed"
   ]
  },
  {
   "cell_type": "code",
   "execution_count": null,
   "id": "5dddeaa5-81cd-4965-b4d0-fb0743357086",
   "metadata": {},
   "outputs": [],
   "source": [
    "analysis = rot.create_analysis_dfs(\n",
    "    df = df,\n",
    "    dropfirst = dropfirst,\n",
    "    keep_dfs = True,\n",
    "    baseline_session = None,\n",
    ")"
   ]
  },
  {
   "cell_type": "markdown",
   "id": "6904bdf1-5af0-4b00-829f-234d8409154a",
   "metadata": {},
   "source": [
    "### specify the type of data you want to plot and save\n",
    "- how to treat values of one animal at each session\n",
    "   - mean: (mean, recommended)\n",
    "   - median: (median)\n",
    "   - max (maximum value)\n",
    "- how to analyse the data: \n",
    "   - raw (raw score)\n",
    "   - absolute (changes in score over time)\n",
    "   - relative (changes in score over time, normalized to baseline session)\n",
    "\n",
    "__=> mean_raw, max_raw, median_raw, mean_absolute, max_absolute, median_absolute, mean_relative, max_relative, median_relative__"
   ]
  },
  {
   "cell_type": "code",
   "execution_count": null,
   "id": "9e42d681-e5bd-4a38-af4a-892bda9066d9",
   "metadata": {},
   "outputs": [],
   "source": [
    "data_key = 'mean_relative' \n",
    "data = analysis[data_key]"
   ]
  },
  {
   "cell_type": "markdown",
   "id": "27df4f5d-07ef-4ae3-b1b8-5911d443585f",
   "metadata": {},
   "source": [
    "### show the analysed data\n",
    "1. per group\n",
    "2. per individual subject"
   ]
  },
  {
   "cell_type": "code",
   "execution_count": null,
   "id": "1d2d1185-aa19-4c2c-9e48-e6207c45c5d8",
   "metadata": {},
   "outputs": [],
   "source": [
    "fig = plt.figure()\n",
    "ax = sns.lineplot(data = data, y='Data', x='session_id', hue='group_id')\n",
    "ax.set_xticks(data[\"session_id\"].unique())\n",
    "plt.title(f\"{data_key} per group\")\n",
    "plt.show()\n",
    "\n",
    "fig = plt.figure()\n",
    "ax = sns.lineplot(data = data, y='Data', x='session_id', hue='subject_id')\n",
    "ax.set_xticks(data[\"session_id\"].unique())\n",
    "plt.title(f\"{data_key} per individual\")\n",
    "plt.show()"
   ]
  },
  {
   "cell_type": "markdown",
   "id": "71293a29-a668-49f7-99df-0602b6746224",
   "metadata": {},
   "source": [
    "### set a name for the output file"
   ]
  },
  {
   "cell_type": "code",
   "execution_count": null,
   "id": "423f3c74-ee52-42e8-adf2-df73fd4fefec",
   "metadata": {},
   "outputs": [],
   "source": [
    "output_filename = \"out\" # supported filetypes: .xlsx and .csv, default: .csv"
   ]
  },
  {
   "cell_type": "markdown",
   "id": "7572d9c6-7ac4-4817-a97d-d71972dcd961",
   "metadata": {},
   "source": [
    "## save the data \n",
    "(only the type of analysis specified as `data_key` will be saved)"
   ]
  },
  {
   "cell_type": "code",
   "execution_count": null,
   "id": "8c9283a5-c394-4afa-82c5-ad8cbc0124f0",
   "metadata": {},
   "outputs": [],
   "source": [
    "output_filename = Path(output_filename)\n",
    "if output_filename.suffix == \".csv\":\n",
    "    data.to_csv(output_filename, index=False)\n",
    "elif output_filename.suffix == \".xlsx\":\n",
    "    data.to_excel(output_filename, index=False)\n",
    "else:\n",
    "    data.to_csv(output_filename.with_suffix(\".csv\"), index=False)"
   ]
  },
  {
   "cell_type": "markdown",
   "id": "0492e070-ba41-4721-b255-d2606abe588f",
   "metadata": {},
   "source": [
    "- The format of the output .csv is directly compatible with the following statistic tool\n",
    "> https://github.com/Defense-Circuits-Lab/stats_n_plots.git"
   ]
  },
  {
   "cell_type": "code",
   "execution_count": null,
   "id": "6873c376-4b24-490e-abfc-809d3f162cbe",
   "metadata": {},
   "outputs": [],
   "source": []
  }
 ],
 "metadata": {
  "kernelspec": {
   "display_name": "python3",
   "language": "python",
   "name": "python3"
  }
 },
 "nbformat": 4,
 "nbformat_minor": 5
}
